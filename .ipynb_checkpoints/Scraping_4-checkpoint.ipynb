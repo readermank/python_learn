{
 "cells": [
  {
   "cell_type": "code",
   "execution_count": 4,
   "metadata": {},
   "outputs": [
    {
     "name": "stdout",
     "output_type": "stream",
     "text": [
      "<html>\n",
      "\t<body>\n",
      "\n",
      "\n",
      "<h2>Thanks for submitting your information</h2>\n",
      "\n",
      "<p>Here's a dump of the form data that was submitted:</p>\n",
      "\n",
      "<pre>array(5) {\n",
      "  [\"name\"]=>\n",
      "  string(3) \"Kim\"\n",
      "  [\"gender\"]=>\n",
      "  string(1) \"M\"\n",
      "  [\"pizza\"]=>\n",
      "  string(4) \"like\"\n",
      "  [\"haircolor\"]=>\n",
      "  string(5) \"black\"\n",
      "  [\"comments\"]=>\n",
      "  string(4) \"test\"\n",
      "}\n",
      "</pre>\n",
      "\n",
      "\n",
      "\t</body>\n",
      "</html>\n",
      "\n"
     ]
    }
   ],
   "source": [
    "import requests\n",
    "\n",
    "url = 'http://www.webscrapingfordatascience.com/postform2/'\n",
    "\n",
    "r = requests.get(url)\n",
    "formdata = {\n",
    "    'name': 'Kim',\n",
    "    'gender': 'M',\n",
    "    'pizza': 'like',\n",
    "    'haircolor': 'black',\n",
    "    'comments': 'test'\n",
    "}\n",
    "r = requests.post(url,data=formdata)\n",
    "print(r.text)"
   ]
  },
  {
   "cell_type": "code",
   "execution_count": 5,
   "metadata": {},
   "outputs": [
    {
     "name": "stdout",
     "output_type": "stream",
     "text": [
      "<html>\n",
      "\t<body>\n",
      "\n",
      "\n",
      "Are you trying to submit information from somewhere else?\n",
      "\n",
      "\t</body>\n",
      "</html>\n",
      "\n"
     ]
    }
   ],
   "source": [
    "url = 'http://www.webscrapingfordatascience.com/postform3/'\n",
    "\n",
    "formdata = {\n",
    "    'name': 'kim',\n",
    "    'gender': 'M',\n",
    "    'pizza': 'like',\n",
    "    'haircolor': 'black',\n",
    "    'comments': ''\n",
    "}\n",
    "\n",
    "r = requests.post(url, data=formdata)\n",
    "\n",
    "print(r.text)"
   ]
  },
  {
   "cell_type": "code",
   "execution_count": 11,
   "metadata": {},
   "outputs": [
    {
     "name": "stdout",
     "output_type": "stream",
     "text": [
      "<html>\n",
      "\t<body>\n",
      "\n",
      "\n",
      "You waited too long to submit this information. Try <a href=\"./\">again</a>.\n",
      "\n",
      "\t</body>\n",
      "</html>\n",
      "\n"
     ]
    }
   ],
   "source": [
    "formdata={\n",
    "    'name': 'kim',\n",
    "    'gender': 'M',\n",
    "    'pizza': 'like',\n",
    "    'haircolor': 'black',\n",
    "    'comments': '',\n",
    "    'protection': 'e4e26612b88eee27e930e530849fbbcc'\n",
    "}\n",
    "r = requests.post(url, data=formdata)\n",
    "print(r.text)"
   ]
  },
  {
   "cell_type": "code",
   "execution_count": 14,
   "metadata": {},
   "outputs": [
    {
     "name": "stdout",
     "output_type": "stream",
     "text": [
      "<html>\n",
      "\t<body>\n",
      "\n",
      "\n",
      "\n",
      "<h2>Thanks for submitting your information</h2>\n",
      "\n",
      "<p>Here's a dump of the form data that was submitted:</p>\n",
      "\n",
      "<pre>array(6) {\n",
      "  [\"name\"]=>\n",
      "  string(3) \"kim\"\n",
      "  [\"gender\"]=>\n",
      "  string(1) \"M\"\n",
      "  [\"pizza\"]=>\n",
      "  string(4) \"like\"\n",
      "  [\"haircolor\"]=>\n",
      "  string(5) \"black\"\n",
      "  [\"comments\"]=>\n",
      "  string(0) \"\"\n",
      "  [\"protection\"]=>\n",
      "  string(32) \"38d2d9a2d53ba34b6ea8650769c1afb9\"\n",
      "}\n",
      "</pre>\n",
      "\n",
      "\n",
      "\n",
      "\t</body>\n",
      "</html>\n",
      "\n"
     ]
    }
   ],
   "source": [
    "from bs4 import BeautifulSoup\n",
    "\n",
    "r = requests.get(url)\n",
    "html_soup = BeautifulSoup(r.text, 'html.parser')\n",
    "p_val = html_soup.find('input', attrs={'name':'protection'}).get('value')\n",
    "\n",
    "formdata = {\n",
    "    'name': 'kim',\n",
    "    'gender': 'M',\n",
    "    'pizza': 'like',\n",
    "    'haircolor': 'black',\n",
    "    'comments': '',\n",
    "    'protection': p_val\n",
    "}\n",
    "\n",
    "r = requests.post(url, data=formdata)\n",
    "print(r.text)"
   ]
  },
  {
   "cell_type": "code",
   "execution_count": 17,
   "metadata": {},
   "outputs": [
    {
     "name": "stdout",
     "output_type": "stream",
     "text": [
      "It seems you are using a scraper!\n",
      "-------------------Header\n",
      "{'User-Agent': 'python-requests/2.24.0', 'Accept-Encoding': 'gzip, deflate', 'Accept': '*/*', 'Connection': 'keep-alive'}\n"
     ]
    }
   ],
   "source": [
    "url = 'http://www.webscrapingfordatascience.com/usercheck'\n",
    "r = requests.get(url)\n",
    "\n",
    "print(r.text)\n",
    "print('-------------------Header')\n",
    "print(r.request.headers)"
   ]
  },
  {
   "cell_type": "code",
   "execution_count": 19,
   "metadata": {},
   "outputs": [
    {
     "name": "stdout",
     "output_type": "stream",
     "text": [
      "Welcome, normal user!\n",
      "------------Header\n",
      "{'User-Agent': 'Mozilla/5.0 (Window NT 10.0.0; Win64; x64)', 'Accept-Encoding': 'gzip, deflate', 'Accept': '*/*', 'Connection': 'keep-alive'}\n"
     ]
    }
   ],
   "source": [
    "my_header = {\n",
    "    'User-Agent': 'Mozilla/5.0 (Window NT 10.0.0; Win64; x64)'\n",
    "}\n",
    "\n",
    "r = requests.get(url, headers=my_header)\n",
    "print(r.text)\n",
    "print('------------Header')\n",
    "print(r.request.headers)"
   ]
  },
  {
   "cell_type": "code",
   "execution_count": 21,
   "metadata": {},
   "outputs": [
    {
     "name": "stdout",
     "output_type": "stream",
     "text": [
      "Sorry, you seem to come from another web page\n"
     ]
    }
   ],
   "source": [
    "\n",
    "url = 'http://www.webscrapingfordatascience.com/referercheck/secret.php'\n",
    "\n",
    "r = requests.get(url)\n",
    "\n",
    "print(r.text)"
   ]
  },
  {
   "cell_type": "code",
   "execution_count": 25,
   "metadata": {},
   "outputs": [
    {
     "name": "stdout",
     "output_type": "stream",
     "text": [
      "This is a totally secret page\n"
     ]
    }
   ],
   "source": [
    "my_header = {\n",
    "    'Referer': 'http://www.webscrapingfordatascience.com/referercheck/'\n",
    "}\n",
    "\n",
    "r = requests.get(url, headers=my_header)\n",
    "print(r.text)"
   ]
  },
  {
   "cell_type": "code",
   "execution_count": 27,
   "metadata": {},
   "outputs": [
    {
     "name": "stdout",
     "output_type": "stream",
     "text": [
      "Hello, there -- you've been redirected here from another page!\n",
      "\n",
      "----------------Headers\n",
      "{'Date': 'Tue, 01 Sep 2020 11:47:04 GMT', 'Server': 'Apache/2.4.18 (Ubuntu)', 'Content-Length': '63', 'Keep-Alive': 'timeout=5, max=99', 'Connection': 'Keep-Alive', 'Content-Type': 'text/html; charset=UTF-8'}\n"
     ]
    }
   ],
   "source": [
    "url = 'http://www.webscrapingfordatascience.com/redirect/'\n",
    "r = requests.get(url)\n",
    "\n",
    "print(r.text)\n",
    "print('----------------Headers')\n",
    "print(r.headers)"
   ]
  },
  {
   "cell_type": "code",
   "execution_count": 6,
   "metadata": {},
   "outputs": [
    {
     "name": "stdout",
     "output_type": "stream",
     "text": [
      "<html>\n",
      "\t<body>\n",
      "\n",
      "\n",
      "\t\t\n",
      "\t\t<form method=\"POST\">\n",
      "\n",
      "                        <input type=\"hidden\" name=\"protection\" value=\"9a626cb01f2e33aab8f31cea2873b01d\">\n",
      "\n",
      "\t\t\t<table border=\"1\">\n",
      "\t\t\t\t<tr style=\"background-color: #24afe2;\"><th>Name</th><th>Value</th></tr>\n",
      "\n",
      "\t\t\t\t<tr><td>Your name</td>\n",
      "\t\t\t\t\t<td><input type=\"text\" name=\"name\"></td></tr>\n",
      "\n",
      "\t\t\t\t<tr><td>Your gender</td>\n",
      "\t\t\t\t\t<td><input type=\"radio\" name=\"gender\" value=\"M\">Male<br>\n",
      "\t\t\t\t\t\t<input type=\"radio\" name=\"gender\" value=\"F\">Female<br>\n",
      "\t\t\t\t\t\t<input type=\"radio\" name=\"gender\" value=\"N\">Other / prefer not to say</td></tr>\n",
      "\n",
      "\t\t\t\t<tr><td>Food you like</td>\n",
      "\t\t\t\t\t<td><input type=\"checkbox\" name=\"pizza\" value=\"like\">Pizza!<br>\n",
      "\t\t\t\t\t\t<input type=\"checkbox\" name=\"fries\" value=\"like\">Fries please<br>\n",
      "\t\t\t\t\t\t<input type=\"checkbox\" name=\"salad\" value=\"like\">Salad for me</td></tr>\n",
      "\n",
      "\t\t\t\t<tr><td>Your hair color</td>\n",
      "\t\t\t\t\t<td>\n",
      "\t\t\t\t\t\t<select name=\"haircolor\">\n",
      "\t\t\t\t\t\t\t<option value=\"black\">Black hair</option>\n",
      "\t\t\t\t\t\t\t<option value=\"brown\">Brown hair</option>\n",
      "\t\t\t\t\t\t\t<option value=\"blonde\">Blonde hair</option>\n",
      "\t\t\t\t\t\t\t<option value=\"other\">Other</option>\n",
      "\t\t\t\t\t\t</select>\n",
      "\t\t\t\t\t</td></tr>\n",
      "\n",
      "\t\t\t\t<tr><td>Any more comments?</td>\n",
      "\t\t\t\t\t<td>\n",
      "\t\t\t\t\t\t<textarea name=\"comments\"></textarea>\n",
      "\t\t\t\t\t</td></tr>\n",
      "\n",
      "\t\t\t\t<tr><td>Ready?</td>\n",
      "\t\t\t\t\t<td>\n",
      "\t\t\t\t\t\t<input type=\"submit\" value=\"Submit my information\">\n",
      "\t\t\t\t\t</td></tr>\n",
      "\t\t\t</table>\n",
      "\n",
      "\t\t</form>\n",
      "\n",
      "\n",
      "\t</body>\n",
      "</html>\n",
      "\n",
      "----------------Headers\n",
      "{'Date': 'Tue, 01 Dec 2020 10:16:09 GMT', 'Server': 'Apache/2.4.41 (Ubuntu)', 'Vary': 'Accept-Encoding', 'Content-Encoding': 'gzip', 'Content-Length': '523', 'Keep-Alive': 'timeout=5, max=100', 'Connection': 'Keep-Alive', 'Content-Type': 'text/html; charset=UTF-8'}\n"
     ]
    }
   ],
   "source": [
    "r = requests.get(url, allow_redirects=False)\n",
    "\n",
    "print(r.text)\n",
    "print('----------------Headers')\n",
    "print(r.headers)"
   ]
  },
  {
   "cell_type": "code",
   "execution_count": 13,
   "metadata": {},
   "outputs": [
    {
     "name": "stdout",
     "output_type": "stream",
     "text": [
      "Hello myusername.\n",
      "You entered mypassword as your password.\n",
      "----------------Headers\n",
      "{'Date': 'Tue, 01 Dec 2020 10:22:21 GMT', 'Server': 'Apache/2.4.41 (Ubuntu)', 'Content-Length': '58', 'Keep-Alive': 'timeout=5, max=100', 'Connection': 'Keep-Alive', 'Content-Type': 'text/html; charset=UTF-8'}\n"
     ]
    }
   ],
   "source": [
    "url = 'http://www.webscrapingfordatascience.com/authentication/'\n",
    "\n",
    "r = requests.get(url, auth=('myusername', 'mypassword'))\n",
    "\n",
    "print(r.text)\n",
    "print('----------------Headers')\n",
    "print(r.headers)"
   ]
  },
  {
   "cell_type": "code",
   "execution_count": 14,
   "metadata": {},
   "outputs": [
    {
     "name": "stdout",
     "output_type": "stream",
     "text": [
      "Hmm... it seems you are not logged in\n"
     ]
    }
   ],
   "source": [
    "url = 'http://www.webscrapingfordatascience.com/cookielogin/secret.php'\n",
    "\n",
    "my_cookie = {'PHPSESSID': 'ijfatbjege43lnsfn2b5c37706'}\n",
    "\n",
    "r = requests.get(url, cookies=my_cookie)\n",
    "print(r.text)"
   ]
  },
  {
   "cell_type": "code",
   "execution_count": 20,
   "metadata": {},
   "outputs": [
    {
     "name": "stdout",
     "output_type": "stream",
     "text": [
      "This is a secret code: 1234\n"
     ]
    }
   ],
   "source": [
    "url = 'http://www.webscrapingfordatascience.com/cookielogin/'\n",
    "\n",
    "r = requests.post(url, data={'username': 'dummy', 'password': '1234'})\n",
    "\n",
    "my_cookie = r.cookies\n",
    "\n",
    "my_cookie['PHPSESSID'] = r.cookies.get('PHPSESSID')\n",
    "\n",
    "r = requests.get(url + 'secret.php', cookies=my_cookie)\n",
    "\n",
    "print(r.text)\n"
   ]
  },
  {
   "cell_type": "code",
   "execution_count": 23,
   "metadata": {},
   "outputs": [
    {
     "name": "stdout",
     "output_type": "stream",
     "text": [
      "<RequestsCookieJar[<Cookie PHPSESSID=6lvtak5dtcepjmpkp7itfrjge3 for www.webscrapingfordatascience.com/>]>\n",
      "This is a secret code: 1234\n"
     ]
    }
   ],
   "source": [
    "url = 'http://www.webscrapingfordatascience.com/redirlogin/'\n",
    "\n",
    "r = requests.post(url, data={'username': 'dummy', 'password': '1234'},\n",
    "                 allow_redirects=False)\n",
    "\n",
    "print(r.cookies)\n",
    "\n",
    "my_cookie = r.cookies\n",
    "\n",
    "r = requests.get(url + 'secret.php', cookies=my_cookie)\n",
    "\n",
    "print(r.text)"
   ]
  },
  {
   "cell_type": "code",
   "execution_count": 25,
   "metadata": {},
   "outputs": [
    {
     "name": "stdout",
     "output_type": "stream",
     "text": [
      "You should login first before accessing the protected page!\n",
      "<br><br>\n",
      "<form method=\"post\" action=\"index.php?p=login\">\n",
      "\tUsername: <input type=\"text\" name=\"username\"><br>\n",
      "\tPassword: <input type=\"password\" name=\"password\"><br>\n",
      "\t<input type=\"Submit\" value=\"Access the secret page\">\n",
      "</form>\n",
      "\n"
     ]
    }
   ],
   "source": [
    "url = 'http://www.webscrapingfordatascience.com/trickylogin/'\n",
    "\n",
    "r = requests.post(url, params={'p': 'login'},\n",
    "                 data={'username': 'dummy', 'password': '1234'},\n",
    "                 allow_redirects=False)\n",
    "\n",
    "my_cookie = r.cookies\n",
    "\n",
    "r = requests.get(url, params={'p': 'protected'}, cookies=my_cookie)\n",
    "print(r.text)"
   ]
  },
  {
   "cell_type": "code",
   "execution_count": 27,
   "metadata": {},
   "outputs": [
    {
     "name": "stdout",
     "output_type": "stream",
     "text": [
      "You should login first before accessing the protected page!\n",
      "<br><br>\n",
      "<form method=\"post\" action=\"index.php?p=login\">\n",
      "\tUsername: <input type=\"text\" name=\"username\"><br>\n",
      "\tPassword: <input type=\"password\" name=\"password\"><br>\n",
      "\t<input type=\"Submit\" value=\"Access the secret page\">\n",
      "</form>\n",
      "\n"
     ]
    }
   ],
   "source": [
    "url = 'http://www.webscrapingfordatascience.com/trickylogin/'\n",
    "\n",
    "r = requests.post(url, params={'p': 'login'},\n",
    "                 data={'username': 'dummy', 'password': '1234'},\n",
    "                 allow_redirects=False,\n",
    "                 cookies=my_cookie)\n",
    "\n",
    "my_cookie = r.cookies\n",
    "\n",
    "r = requests.get(url, params={'p': 'protected'}, cookies=my_cookie)\n",
    "print(r.text)"
   ]
  },
  {
   "cell_type": "code",
   "execution_count": 29,
   "metadata": {},
   "outputs": [
    {
     "name": "stdout",
     "output_type": "stream",
     "text": [
      "<RequestsCookieJar[<Cookie PHPSESSID=cg3i63dnuhcs3ouuvcqjrq5hcb for www.webscrapingfordatascience.com/>]>\n",
      "<RequestsCookieJar[<Cookie PHPSESSID=il2mdead7r4nigogr5vpp32d8k for www.webscrapingfordatascience.com/>]>\n",
      "Here is your secret code: 3838.\n"
     ]
    }
   ],
   "source": [
    "url = 'http://www.webscrapingfordatascience.com/trickylogin/'\n",
    "\n",
    "r = requests.get(url)\n",
    "my_cookie = r.cookies\n",
    "print(my_cookie)\n",
    "\n",
    "r = requests.post(url, params={'p': 'login'},\n",
    "                 data={'username': 'dummy', 'password': '1234'},\n",
    "                 allow_redirects=False,\n",
    "                 cookies=my_cookie)\n",
    "\n",
    "my_cookie = r.cookies\n",
    "print(my_cookie)\n",
    "\n",
    "r = requests.get(url, params={'p': 'protected'}, cookies=my_cookie)\n",
    "print(r.text)"
   ]
  },
  {
   "cell_type": "code",
   "execution_count": 32,
   "metadata": {},
   "outputs": [
    {
     "name": "stdout",
     "output_type": "stream",
     "text": [
      "Here is your secret code: 3838.\n"
     ]
    }
   ],
   "source": [
    "url = 'http://www.webscrapingfordatascience.com/trickylogin/'\n",
    "\n",
    "my_session = requests.Session()\n",
    "\n",
    "r = my_session.get(url)\n",
    "r = my_session.post(url, params={'p': 'login'},\n",
    "                   data={'username': 'dummy', 'password': '1234'})\n",
    "r = my_session.get(url, params={'p': 'protected'})\n",
    "\n",
    "print(r.text)"
   ]
  },
  {
   "cell_type": "code",
   "execution_count": 34,
   "metadata": {},
   "outputs": [
    {
     "name": "stdout",
     "output_type": "stream",
     "text": [
      "{'User-Agent': 'Chrome!', 'Accept-Encoding': 'gzip, deflate', 'Accept': '*/*', 'Connection': 'keep-alive', 'Cookie': 'PHPSESSID=djo9g5h9ftibim97b66u5jj4sf'}\n",
      "{'User-Agent': 'Chrome!', 'Accept-Encoding': 'gzip, deflate', 'Accept': '*/*', 'Connection': 'keep-alive', 'Cookie': 'PHPSESSID=c648mcf53ro8ufp9dutdkv674r'}\n",
      "Here is your secret code: 3838.\n"
     ]
    }
   ],
   "source": [
    "my_session.headers.update({'User-Agent': 'Chrome!'})\n",
    "\n",
    "r = my_session.get(url)\n",
    "print(r.request.headers)\n",
    "\n",
    "r = my_session.post(url, params={'p': 'login'},\n",
    "                   data={'username': 'dummy', 'password': '1234'})\n",
    "print(r.request.headers)\n",
    "r = my_session.get(url, params={'p': 'protected'})\n",
    "\n",
    "print(r.text)"
   ]
  },
  {
   "cell_type": "code",
   "execution_count": 40,
   "metadata": {},
   "outputs": [],
   "source": [
    "url = 'http://www.webscrapingfordatascience.com/files/kitten.jpg'\n",
    "\n",
    "r = requests.get(url)\n",
    "\n",
    "#print(r.text)\n",
    "\n",
    "with open('image.jpg', 'wb') as my_file:\n",
    "    my_file.write(r.content)"
   ]
  },
  {
   "cell_type": "code",
   "execution_count": 43,
   "metadata": {},
   "outputs": [],
   "source": [
    "r = requests.get(url, stream=True)\n",
    "\n",
    "with open('image.jpg', 'wb') as my_file:\n",
    "    for byte_chunk in r.iter_content(chunk_size=4096):\n",
    "        my_file.write(byte_chunk)"
   ]
  },
  {
   "cell_type": "code",
   "execution_count": 45,
   "metadata": {},
   "outputs": [
    {
     "name": "stdout",
     "output_type": "stream",
     "text": [
      "{'results': [3, 4, 6, 10, 14, 26, 29]}\n",
      "[3, 4, 6, 10, 14, 26, 29]\n"
     ]
    }
   ],
   "source": [
    "url = 'http://www.webscrapingfordatascience.com/jsonajax/results.php'\n",
    "\n",
    "r = requests.post(url, data={'api_code': 'C123456'})\n",
    "\n",
    "print(r.json())\n",
    "print(r.json().get('results'))\n"
   ]
  },
  {
   "cell_type": "code",
   "execution_count": 48,
   "metadata": {},
   "outputs": [
    {
     "name": "stdout",
     "output_type": "stream",
     "text": [
      "{'User-Agent': 'python-requests/2.24.0', 'Accept-Encoding': 'gzip, deflate', 'Accept': '*/*', 'Connection': 'keep-alive', 'Content-Length': '23', 'Content-Type': 'application/json'}\n",
      "{'results': [0, 1, 3, 15, 20, 23, 28]}\n"
     ]
    }
   ],
   "source": [
    "url = 'http://www.webscrapingfordatascience.com/jsonajax/results2.php'\n",
    "\n",
    "r = requests.post(url, json={'api_code': 'C123456'})\n",
    "\n",
    "print(r.request.headers)\n",
    "\n",
    "print(r.json())\n"
   ]
  }
 ],
 "metadata": {
  "kernelspec": {
   "display_name": "Python 3",
   "language": "python",
   "name": "python3"
  },
  "language_info": {
   "codemirror_mode": {
    "name": "ipython",
    "version": 3
   },
   "file_extension": ".py",
   "mimetype": "text/x-python",
   "name": "python",
   "nbconvert_exporter": "python",
   "pygments_lexer": "ipython3",
   "version": "3.8.5"
  }
 },
 "nbformat": 4,
 "nbformat_minor": 4
}
